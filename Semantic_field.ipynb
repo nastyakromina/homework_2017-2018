{
 "cells": [
  {
   "cell_type": "code",
   "execution_count": 1,
   "metadata": {},
   "outputs": [
    {
     "name": "stderr",
     "output_type": "stream",
     "text": [
      "C:\\Users\\Asus\\Anaconda3\\lib\\site-packages\\gensim\\utils.py:1197: UserWarning: detected Windows; aliasing chunkize to chunkize_serial\n",
      "  warnings.warn(\"detected Windows; aliasing chunkize to chunkize_serial\")\n"
     ]
    }
   ],
   "source": [
    "import networkx as nx\n",
    "import matplotlib.pyplot as plt \n",
    "import sys\n",
    "import gensim, logging\n",
    "\n",
    "logging.basicConfig(format='%(asctime)s : %(levelname)s : %(message)s', level=logging.INFO)"
   ]
  },
  {
   "cell_type": "code",
   "execution_count": 2,
   "metadata": {},
   "outputs": [
    {
     "name": "stderr",
     "output_type": "stream",
     "text": [
      "2018-06-07 14:48:28,907 : INFO : loading projection weights from ruscorpora_upos_skipgram_300_5_2018.vec.gz\n",
      "2018-06-07 14:49:44,353 : INFO : loaded (195071, 300) matrix from ruscorpora_upos_skipgram_300_5_2018.vec.gz\n"
     ]
    }
   ],
   "source": [
    "m = 'ruscorpora_upos_skipgram_300_5_2018.vec.gz'\n",
    "if m.endswith('.vec.gz'):\n",
    "    model = gensim.models.KeyedVectors.load_word2vec_format(m, binary=False)\n",
    "elif m.endswith('.bin.gz'):\n",
    "    model = gensim.models.KeyedVectors.load_word2vec_format(m, binary=True)\n",
    "else:\n",
    "    model = gensim.models.KeyedVectors.load(m)"
   ]
  },
  {
   "cell_type": "code",
   "execution_count": 3,
   "metadata": {},
   "outputs": [
    {
     "name": "stderr",
     "output_type": "stream",
     "text": [
      "2018-06-07 14:49:46,342 : INFO : precomputing L2-norms of word weight vectors\n"
     ]
    }
   ],
   "source": [
    "model.init_sims (replace=True)"
   ]
  },
  {
   "cell_type": "code",
   "execution_count": 24,
   "metadata": {
    "collapsed": true
   },
   "outputs": [],
   "source": [
    "words_sem = ['ехать_VERB', 'ездить_VERB', 'кататься_VERB', 'катить_VERB', 'колесить_VERB', 'путешествовать_VERB', 'скакать_VERB', 'лететь_VERB', 'мчаться_VERB', 'нестись_VERB', 'гнать_VERB']"
   ]
  },
  {
   "cell_type": "code",
   "execution_count": 25,
   "metadata": {},
   "outputs": [
    {
     "name": "stdout",
     "output_type": "stream",
     "text": [
      "узлы ['ехать_VERB', 'ездить_VERB', 'кататься_VERB', 'катить_VERB', 'колесить_VERB', 'путешествовать_VERB', 'скакать_VERB', 'лететь_VERB', 'мчаться_VERB', 'нестись_VERB', 'гнать_VERB']\n",
      "рёбра [('ехать_VERB', 'ездить_VERB'), ('ехать_VERB', 'катить_VERB'), ('ехать_VERB', 'лететь_VERB'), ('ехать_VERB', 'мчаться_VERB'), ('ездить_VERB', 'кататься_VERB'), ('ездить_VERB', 'колесить_VERB'), ('ездить_VERB', 'путешествовать_VERB'), ('катить_VERB', 'мчаться_VERB'), ('катить_VERB', 'нестись_VERB'), ('колесить_VERB', 'путешествовать_VERB'), ('скакать_VERB', 'лететь_VERB'), ('скакать_VERB', 'мчаться_VERB'), ('скакать_VERB', 'нестись_VERB'), ('лететь_VERB', 'мчаться_VERB'), ('лететь_VERB', 'нестись_VERB'), ('мчаться_VERB', 'нестись_VERB'), ('мчаться_VERB', 'гнать_VERB'), ('нестись_VERB', 'гнать_VERB')]\n"
     ]
    }
   ],
   "source": [
    "G = nx.Graph()\n",
    "G.add_nodes_from(words_sem)\n",
    "for u_word in words_sem:\n",
    "    for word in words_sem:\n",
    "        # есть ли слово в модели? Может быть, и нет\n",
    "        if word in model:\n",
    "            Cos = model.similarity(u_word, word)\n",
    "            if Cos < 0.9999 and Cos > 0.5:\n",
    "                G.add_edge(u_word,word)\n",
    "        else:\n",
    "            print ('No such word in model')\n",
    "print('узлы', G.nodes())\n",
    "print('рёбра', G.edges())"
   ]
  },
  {
   "cell_type": "code",
   "execution_count": 26,
   "metadata": {},
   "outputs": [
    {
     "data": {
      "image/png": "[encoded data removed]",
      "text/plain": [
       "<matplotlib.figure.Figure at 0x2deffdb1550>"
      ]
     },
     "metadata": {},
     "output_type": "display_data"
    }
   ],
   "source": [
    "pos=nx.spring_layout(G)\n",
    "\n",
    "nx.draw_networkx_nodes(G, pos, node_color='black', node_size=20)\n",
    "nx.draw_networkx_edges(G, pos, edge_color='green')\n",
    "nx.draw_networkx_labels(G, pos, font_size=10, font_family='Arial')\n",
    "plt.axis('off')\n",
    "plt.show()"
   ]
  },
  {
   "cell_type": "code",
   "execution_count": 27,
   "metadata": {},
   "outputs": [
    {
     "name": "stdout",
     "output_type": "stream",
     "text": [
      "3 самых центральных слова графа: мчаться_VERB, нестись_VERB, ехать_VERB\n"
     ]
    }
   ],
   "source": [
    "central_words = []\n",
    "deg = nx.degree_centrality(G)\n",
    "for nodeid in sorted(deg, key=deg.get, reverse=True):\n",
    "    central_words.append(nodeid)\n",
    "print('3 самых центральных слова графа:', \", \".join(central_words[:3]))"
   ]
  },
  {
   "cell_type": "code",
   "execution_count": 32,
   "metadata": {},
   "outputs": [
    {
     "name": "stdout",
     "output_type": "stream",
     "text": [
      "Радиус графа - 2\n"
     ]
    }
   ],
   "source": [
    "print('Радиус графа -', nx.radius(G))"
   ]
  },
  {
   "cell_type": "code",
   "execution_count": 34,
   "metadata": {},
   "outputs": [
    {
     "name": "stdout",
     "output_type": "stream",
     "text": [
      "Коэффициент кластеризации - 0.6181818181818182\n"
     ]
    }
   ],
   "source": [
    "print('Коэффициент кластеризации -', nx.average_clustering(G))\n",
    "#print(nx.transitivity(G))"
   ]
  },
  {
   "cell_type": "code",
   "execution_count": null,
   "metadata": {
    "collapsed": true
   },
   "outputs": [],
   "source": []
  }
 ],
 "metadata": {
  "kernelspec": {
   "display_name": "Python 3",
   "language": "python",
   "name": "python3"
  },
  "language_info": {
   "codemirror_mode": {
    "name": "ipython",
    "version": 3
   },
   "file_extension": ".py",
   "mimetype": "text/x-python",
   "name": "python",
   "nbconvert_exporter": "python",
   "pygments_lexer": "ipython3",
   "version": "3.6.3"
  }
 },
 "nbformat": 4,
 "nbformat_minor": 2
}
