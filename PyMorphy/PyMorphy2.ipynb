{
 "cells": [
  {
   "cell_type": "code",
   "execution_count": 1,
   "metadata": {
    "collapsed": true
   },
   "outputs": [],
   "source": [
    "#import urllib.request\n",
    "#import requests\n",
    "import re\n",
    "from pymorphy2 import MorphAnalyzer\n",
    "morph = MorphAnalyzer()\n",
    "from flask import Flask\n",
    "from flask import render_template, request"
   ]
  },
  {
   "cell_type": "code",
   "execution_count": 2,
   "metadata": {
    "collapsed": true
   },
   "outputs": [],
   "source": [
    "app = Flask(__name__)"
   ]
  },
  {
   "cell_type": "code",
   "execution_count": 3,
   "metadata": {
    "collapsed": true
   },
   "outputs": [],
   "source": [
    "@app.route('/')\n",
    "def index(): \n",
    "    Ph = ''\n",
    "    gram = []\n",
    "    if request.args:\n",
    "        Ph = request.args['phrase']\n",
    "        w = Ph.split()\n",
    "        for i in range(len(w)):\n",
    "            words_clear = w[i]\n",
    "            ana = morph.parse(words_clear)\n",
    "            gram.append(ana)\n",
    "    datFile = open('1grams-3.txt','r', encoding='utf-8')\n",
    "    new_phrase_nf = []\n",
    "    for i in range(len(gram)):\n",
    "        Pw = gram[i][0].tag\n",
    "        slovo = gram[i][0].word\n",
    "        while True:\n",
    "            slovoforms = datFile.readline()\n",
    "            reg = re.compile('[^а-яА-ЯёЁ]')\n",
    "            Wrd = reg.sub('', slovoforms)\n",
    "            Catal = morph.parse(Wrd)\n",
    "            OneCat = Catal[0].tag\n",
    "            if Pw == OneCat and slovo != Wrd:\n",
    "                new_phrase_nf.append(Wrd)\n",
    "                break\n",
    "    new_phrase = str(new_phrase_nf)\n",
    "    reg_n = re.compile('[^а-яА-ЯёЁ ]')\n",
    "    new_phrase_f = reg_n.sub('', new_phrase)\n",
    "    return render_template('index.html', rezult = new_phrase_f)\n",
    "    "
   ]
  },
  {
   "cell_type": "code",
   "execution_count": null,
   "metadata": {},
   "outputs": [
    {
     "name": "stderr",
     "output_type": "stream",
     "text": [
      " * Running on http://127.0.0.1:80/ (Press CTRL+C to quit)\n",
      "127.0.0.1 - - [29/May/2018 22:54:33] \"GET / HTTP/1.1\" 200 -\n",
      "127.0.0.1 - - [29/May/2018 22:54:33] \"GET /static/js/bootstrap.min.js HTTP/1.1\" 404 -\n",
      "127.0.0.1 - - [29/May/2018 22:54:33] \"GET /static/css/bootstrap.min.css HTTP/1.1\" 404 -\n",
      "127.0.0.1 - - [29/May/2018 22:54:33] \"GET /static/js/bootstrap.min.js HTTP/1.1\" 404 -\n",
      "127.0.0.1 - - [29/May/2018 22:54:33] \"GET /favicon.ico HTTP/1.1\" 404 -\n"
     ]
    }
   ],
   "source": [
    "if __name__ == '__main__':\n",
    "    app.run(host='127.0.0.1', port = 80)"
   ]
  },
  {
   "cell_type": "code",
   "execution_count": null,
   "metadata": {
    "collapsed": true
   },
   "outputs": [],
   "source": []
  }
 ],
 "metadata": {
  "kernelspec": {
   "display_name": "Python 3",
   "language": "python",
   "name": "python3"
  },
  "language_info": {
   "codemirror_mode": {
    "name": "ipython",
    "version": 3
   },
   "file_extension": ".py",
   "mimetype": "text/x-python",
   "name": "python",
   "nbconvert_exporter": "python",
   "pygments_lexer": "ipython3",
   "version": "3.6.3"
  }
 },
 "nbformat": 4,
 "nbformat_minor": 2
}
